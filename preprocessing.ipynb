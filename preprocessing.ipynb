{
 "cells": [
  {
   "cell_type": "code",
   "execution_count": 1,
   "metadata": {
    "collapsed": true
   },
   "outputs": [],
   "source": [
    "import numpy as np\n",
    "import pandas as pd\n",
    "from sklearn import preprocessing"
   ]
  },
  {
   "cell_type": "code",
   "execution_count": 2,
   "outputs": [
    {
     "data": {
      "text/plain": "   1  CountryName CountryCode  Population growth  Total population  \\\n0  2       Brazil         BRA           0.817556       207652865.0   \n\n   Area (sq. km)  \n0      8358140.0  ",
      "text/html": "<div>\n<style scoped>\n    .dataframe tbody tr th:only-of-type {\n        vertical-align: middle;\n    }\n\n    .dataframe tbody tr th {\n        vertical-align: top;\n    }\n\n    .dataframe thead th {\n        text-align: right;\n    }\n</style>\n<table border=\"1\" class=\"dataframe\">\n  <thead>\n    <tr style=\"text-align: right;\">\n      <th></th>\n      <th>1</th>\n      <th>CountryName</th>\n      <th>CountryCode</th>\n      <th>Population growth</th>\n      <th>Total population</th>\n      <th>Area (sq. km)</th>\n    </tr>\n  </thead>\n  <tbody>\n    <tr>\n      <th>0</th>\n      <td>2</td>\n      <td>Brazil</td>\n      <td>BRA</td>\n      <td>0.817556</td>\n      <td>207652865.0</td>\n      <td>8358140.0</td>\n    </tr>\n  </tbody>\n</table>\n</div>"
     },
     "execution_count": 2,
     "metadata": {},
     "output_type": "execute_result"
    }
   ],
   "source": [
    "#read data\n",
    "countries = pd.read_csv('c_data.csv', encoding='ansi', header=2)\n",
    "countries.head(1)"
   ],
   "metadata": {
    "collapsed": false,
    "pycharm": {
     "name": "#%%\n"
    }
   }
  },
  {
   "cell_type": "code",
   "execution_count": 3,
   "outputs": [
    {
     "data": {
      "text/plain": "   1  CountryName  Population growth  Total population  Area (sq. km)\n0  2       Brazil           0.817556       207652865.0      8358140.0",
      "text/html": "<div>\n<style scoped>\n    .dataframe tbody tr th:only-of-type {\n        vertical-align: middle;\n    }\n\n    .dataframe tbody tr th {\n        vertical-align: top;\n    }\n\n    .dataframe thead th {\n        text-align: right;\n    }\n</style>\n<table border=\"1\" class=\"dataframe\">\n  <thead>\n    <tr style=\"text-align: right;\">\n      <th></th>\n      <th>1</th>\n      <th>CountryName</th>\n      <th>Population growth</th>\n      <th>Total population</th>\n      <th>Area (sq. km)</th>\n    </tr>\n  </thead>\n  <tbody>\n    <tr>\n      <th>0</th>\n      <td>2</td>\n      <td>Brazil</td>\n      <td>0.817556</td>\n      <td>207652865.0</td>\n      <td>8358140.0</td>\n    </tr>\n  </tbody>\n</table>\n</div>"
     },
     "execution_count": 3,
     "metadata": {},
     "output_type": "execute_result"
    }
   ],
   "source": [
    "#change header name\n",
    "# countries =  countries.rename(columns={'CountryCode':'code', 'Population growth':'pop_growth', 'Total population':'pop', 'Area (sq. km)':'area'})\n",
    "\n",
    "#drop CountryCode\n",
    "countries.drop('CountryCode', axis=1  , inplace=True)\n",
    "countries.head(1)"
   ],
   "metadata": {
    "collapsed": false,
    "pycharm": {
     "name": "#%%\n"
    }
   }
  },
  {
   "cell_type": "code",
   "execution_count": 4,
   "outputs": [
    {
     "data": {
      "text/plain": "   CountryName  Population growth  Total population  Area (sq. km)\n0       Brazil           0.817556       207652865.0      8358140.0",
      "text/html": "<div>\n<style scoped>\n    .dataframe tbody tr th:only-of-type {\n        vertical-align: middle;\n    }\n\n    .dataframe tbody tr th {\n        vertical-align: top;\n    }\n\n    .dataframe thead th {\n        text-align: right;\n    }\n</style>\n<table border=\"1\" class=\"dataframe\">\n  <thead>\n    <tr style=\"text-align: right;\">\n      <th></th>\n      <th>CountryName</th>\n      <th>Population growth</th>\n      <th>Total population</th>\n      <th>Area (sq. km)</th>\n    </tr>\n  </thead>\n  <tbody>\n    <tr>\n      <th>0</th>\n      <td>Brazil</td>\n      <td>0.817556</td>\n      <td>207652865.0</td>\n      <td>8358140.0</td>\n    </tr>\n  </tbody>\n</table>\n</div>"
     },
     "execution_count": 4,
     "metadata": {},
     "output_type": "execute_result"
    }
   ],
   "source": [
    "# countries.columns\n",
    "countries.drop('1', axis=1  , inplace=True)\n",
    "countries.head(1)"
   ],
   "metadata": {
    "collapsed": false,
    "pycharm": {
     "name": "#%%\n"
    }
   }
  },
  {
   "cell_type": "code",
   "execution_count": 25,
   "outputs": [
    {
     "data": {
      "text/plain": "              Population growth  Total population  Area (sq. km)\n CountryName                                                    \nBrazil                 0.817556      2.076529e+08      8358140.0\nSwitzerland            1.077221      8.372098e+06        39516.0\nGermany                1.193867      8.266768e+07       348900.0\nDenmark                0.834638               NaN        42262.0\nSpain                 -0.008048      4.644396e+07       500210.0\nFrance                 0.407491      6.689611e+07       547557.0\nJapan                 -0.115284      1.269945e+08       364560.0\nGreece                -0.687543      1.074674e+07       128900.0\nIran                   1.148789      8.027743e+07      1628760.0\nKuwait                 2.924206      4.052584e+06            NaN\nMorocco                     NaN      3.527679e+07       446300.0\nNigeria                2.619034      1.859896e+08       910770.0\nQatar                  3.495070      2.569804e+06        11610.0\nSweden                      NaN      9.903122e+06       407310.0\nIndia                  1.148215      1.324171e+09      2973190.0",
      "text/html": "<div>\n<style scoped>\n    .dataframe tbody tr th:only-of-type {\n        vertical-align: middle;\n    }\n\n    .dataframe tbody tr th {\n        vertical-align: top;\n    }\n\n    .dataframe thead th {\n        text-align: right;\n    }\n</style>\n<table border=\"1\" class=\"dataframe\">\n  <thead>\n    <tr style=\"text-align: right;\">\n      <th></th>\n      <th>Population growth</th>\n      <th>Total population</th>\n      <th>Area (sq. km)</th>\n    </tr>\n    <tr>\n      <th>CountryName</th>\n      <th></th>\n      <th></th>\n      <th></th>\n    </tr>\n  </thead>\n  <tbody>\n    <tr>\n      <th>Brazil</th>\n      <td>0.817556</td>\n      <td>2.076529e+08</td>\n      <td>8358140.0</td>\n    </tr>\n    <tr>\n      <th>Switzerland</th>\n      <td>1.077221</td>\n      <td>8.372098e+06</td>\n      <td>39516.0</td>\n    </tr>\n    <tr>\n      <th>Germany</th>\n      <td>1.193867</td>\n      <td>8.266768e+07</td>\n      <td>348900.0</td>\n    </tr>\n    <tr>\n      <th>Denmark</th>\n      <td>0.834638</td>\n      <td>NaN</td>\n      <td>42262.0</td>\n    </tr>\n    <tr>\n      <th>Spain</th>\n      <td>-0.008048</td>\n      <td>4.644396e+07</td>\n      <td>500210.0</td>\n    </tr>\n    <tr>\n      <th>France</th>\n      <td>0.407491</td>\n      <td>6.689611e+07</td>\n      <td>547557.0</td>\n    </tr>\n    <tr>\n      <th>Japan</th>\n      <td>-0.115284</td>\n      <td>1.269945e+08</td>\n      <td>364560.0</td>\n    </tr>\n    <tr>\n      <th>Greece</th>\n      <td>-0.687543</td>\n      <td>1.074674e+07</td>\n      <td>128900.0</td>\n    </tr>\n    <tr>\n      <th>Iran</th>\n      <td>1.148789</td>\n      <td>8.027743e+07</td>\n      <td>1628760.0</td>\n    </tr>\n    <tr>\n      <th>Kuwait</th>\n      <td>2.924206</td>\n      <td>4.052584e+06</td>\n      <td>NaN</td>\n    </tr>\n    <tr>\n      <th>Morocco</th>\n      <td>NaN</td>\n      <td>3.527679e+07</td>\n      <td>446300.0</td>\n    </tr>\n    <tr>\n      <th>Nigeria</th>\n      <td>2.619034</td>\n      <td>1.859896e+08</td>\n      <td>910770.0</td>\n    </tr>\n    <tr>\n      <th>Qatar</th>\n      <td>3.495070</td>\n      <td>2.569804e+06</td>\n      <td>11610.0</td>\n    </tr>\n    <tr>\n      <th>Sweden</th>\n      <td>NaN</td>\n      <td>9.903122e+06</td>\n      <td>407310.0</td>\n    </tr>\n    <tr>\n      <th>India</th>\n      <td>1.148215</td>\n      <td>1.324171e+09</td>\n      <td>2973190.0</td>\n    </tr>\n  </tbody>\n</table>\n</div>"
     },
     "execution_count": 25,
     "metadata": {},
     "output_type": "execute_result"
    }
   ],
   "source": [
    "# add CountryName as index\n",
    "countries.set_index(' CountryName')"
   ],
   "metadata": {
    "collapsed": false,
    "pycharm": {
     "name": "#%%\n"
    }
   }
  },
  {
   "cell_type": "code",
   "execution_count": 6,
   "outputs": [
    {
     "name": "stdout",
     "output_type": "stream",
     "text": [
      "<class 'pandas.core.frame.DataFrame'>\n",
      "RangeIndex: 16 entries, 0 to 15\n",
      "Data columns (total 4 columns):\n",
      " #   Column             Non-Null Count  Dtype  \n",
      "---  ------             --------------  -----  \n",
      " 0    CountryName       16 non-null     object \n",
      " 1   Population growth  14 non-null     float64\n",
      " 2   Total population   15 non-null     float64\n",
      " 3   Area (sq. km)      15 non-null     float64\n",
      "dtypes: float64(3), object(1)\n",
      "memory usage: 640.0+ bytes\n"
     ]
    }
   ],
   "source": [
    "countries.info()"
   ],
   "metadata": {
    "collapsed": false,
    "pycharm": {
     "name": "#%%\n"
    }
   }
  },
  {
   "cell_type": "code",
   "execution_count": 7,
   "outputs": [
    {
     "data": {
      "text/plain": "       Population growth  Total population  Area (sq. km)\ncount          14.000000      1.500000e+01   1.500000e+01\nmean            1.145492      6.422767e+08   9.762744e+06\nstd             1.173195      1.909868e+09   3.325701e+07\nmin            -0.687543      2.569804e+06   1.161000e+04\n25%             0.510007      1.032493e+07   2.389000e+05\n50%             1.112718      6.689611e+07   4.463000e+05\n75%             1.190820      1.564921e+08   1.269765e+06\nmax             3.495070      7.442136e+09   1.297332e+08",
      "text/html": "<div>\n<style scoped>\n    .dataframe tbody tr th:only-of-type {\n        vertical-align: middle;\n    }\n\n    .dataframe tbody tr th {\n        vertical-align: top;\n    }\n\n    .dataframe thead th {\n        text-align: right;\n    }\n</style>\n<table border=\"1\" class=\"dataframe\">\n  <thead>\n    <tr style=\"text-align: right;\">\n      <th></th>\n      <th>Population growth</th>\n      <th>Total population</th>\n      <th>Area (sq. km)</th>\n    </tr>\n  </thead>\n  <tbody>\n    <tr>\n      <th>count</th>\n      <td>14.000000</td>\n      <td>1.500000e+01</td>\n      <td>1.500000e+01</td>\n    </tr>\n    <tr>\n      <th>mean</th>\n      <td>1.145492</td>\n      <td>6.422767e+08</td>\n      <td>9.762744e+06</td>\n    </tr>\n    <tr>\n      <th>std</th>\n      <td>1.173195</td>\n      <td>1.909868e+09</td>\n      <td>3.325701e+07</td>\n    </tr>\n    <tr>\n      <th>min</th>\n      <td>-0.687543</td>\n      <td>2.569804e+06</td>\n      <td>1.161000e+04</td>\n    </tr>\n    <tr>\n      <th>25%</th>\n      <td>0.510007</td>\n      <td>1.032493e+07</td>\n      <td>2.389000e+05</td>\n    </tr>\n    <tr>\n      <th>50%</th>\n      <td>1.112718</td>\n      <td>6.689611e+07</td>\n      <td>4.463000e+05</td>\n    </tr>\n    <tr>\n      <th>75%</th>\n      <td>1.190820</td>\n      <td>1.564921e+08</td>\n      <td>1.269765e+06</td>\n    </tr>\n    <tr>\n      <th>max</th>\n      <td>3.495070</td>\n      <td>7.442136e+09</td>\n      <td>1.297332e+08</td>\n    </tr>\n  </tbody>\n</table>\n</div>"
     },
     "execution_count": 7,
     "metadata": {},
     "output_type": "execute_result"
    }
   ],
   "source": [
    "countries.describe()"
   ],
   "metadata": {
    "collapsed": false,
    "pycharm": {
     "name": "#%%\n"
    }
   }
  },
  {
   "cell_type": "code",
   "execution_count": 9,
   "outputs": [
    {
     "data": {
      "text/plain": "15    7.442136e+09\nName: Total population, dtype: float64"
     },
     "execution_count": 9,
     "metadata": {},
     "output_type": "execute_result"
    }
   ],
   "source": [
    "max_pop = countries['Total population'].max()\n",
    "countries['Total population'][countries['Total population']==max_pop]"
   ],
   "metadata": {
    "collapsed": false,
    "pycharm": {
     "name": "#%%\n"
    }
   }
  },
  {
   "cell_type": "code",
   "execution_count": 19,
   "outputs": [
    {
     "data": {
      "text/plain": "    CountryName  Population growth  Total population  Area (sq. km)\n0        Brazil           0.817556      2.076529e+08      8358140.0\n1   Switzerland           1.077221      8.372098e+06        39516.0\n2       Germany           1.193867      8.266768e+07       348900.0\n3       Denmark           0.834638               NaN        42262.0\n4         Spain          -0.008048      4.644396e+07       500210.0\n5        France           0.407491      6.689611e+07       547557.0\n6         Japan          -0.115284      1.269945e+08       364560.0\n7        Greece          -0.687543      1.074674e+07       128900.0\n8          Iran           1.148789      8.027743e+07      1628760.0\n9        Kuwait           2.924206      4.052584e+06            NaN\n10      Morocco                NaN      3.527679e+07       446300.0\n11      Nigeria           2.619034      1.859896e+08       910770.0\n12        Qatar           3.495070      2.569804e+06        11610.0\n13       Sweden                NaN      9.903122e+06       407310.0\n14        India           1.148215      1.324171e+09      2973190.0",
      "text/html": "<div>\n<style scoped>\n    .dataframe tbody tr th:only-of-type {\n        vertical-align: middle;\n    }\n\n    .dataframe tbody tr th {\n        vertical-align: top;\n    }\n\n    .dataframe thead th {\n        text-align: right;\n    }\n</style>\n<table border=\"1\" class=\"dataframe\">\n  <thead>\n    <tr style=\"text-align: right;\">\n      <th></th>\n      <th>CountryName</th>\n      <th>Population growth</th>\n      <th>Total population</th>\n      <th>Area (sq. km)</th>\n    </tr>\n  </thead>\n  <tbody>\n    <tr>\n      <th>0</th>\n      <td>Brazil</td>\n      <td>0.817556</td>\n      <td>2.076529e+08</td>\n      <td>8358140.0</td>\n    </tr>\n    <tr>\n      <th>1</th>\n      <td>Switzerland</td>\n      <td>1.077221</td>\n      <td>8.372098e+06</td>\n      <td>39516.0</td>\n    </tr>\n    <tr>\n      <th>2</th>\n      <td>Germany</td>\n      <td>1.193867</td>\n      <td>8.266768e+07</td>\n      <td>348900.0</td>\n    </tr>\n    <tr>\n      <th>3</th>\n      <td>Denmark</td>\n      <td>0.834638</td>\n      <td>NaN</td>\n      <td>42262.0</td>\n    </tr>\n    <tr>\n      <th>4</th>\n      <td>Spain</td>\n      <td>-0.008048</td>\n      <td>4.644396e+07</td>\n      <td>500210.0</td>\n    </tr>\n    <tr>\n      <th>5</th>\n      <td>France</td>\n      <td>0.407491</td>\n      <td>6.689611e+07</td>\n      <td>547557.0</td>\n    </tr>\n    <tr>\n      <th>6</th>\n      <td>Japan</td>\n      <td>-0.115284</td>\n      <td>1.269945e+08</td>\n      <td>364560.0</td>\n    </tr>\n    <tr>\n      <th>7</th>\n      <td>Greece</td>\n      <td>-0.687543</td>\n      <td>1.074674e+07</td>\n      <td>128900.0</td>\n    </tr>\n    <tr>\n      <th>8</th>\n      <td>Iran</td>\n      <td>1.148789</td>\n      <td>8.027743e+07</td>\n      <td>1628760.0</td>\n    </tr>\n    <tr>\n      <th>9</th>\n      <td>Kuwait</td>\n      <td>2.924206</td>\n      <td>4.052584e+06</td>\n      <td>NaN</td>\n    </tr>\n    <tr>\n      <th>10</th>\n      <td>Morocco</td>\n      <td>NaN</td>\n      <td>3.527679e+07</td>\n      <td>446300.0</td>\n    </tr>\n    <tr>\n      <th>11</th>\n      <td>Nigeria</td>\n      <td>2.619034</td>\n      <td>1.859896e+08</td>\n      <td>910770.0</td>\n    </tr>\n    <tr>\n      <th>12</th>\n      <td>Qatar</td>\n      <td>3.495070</td>\n      <td>2.569804e+06</td>\n      <td>11610.0</td>\n    </tr>\n    <tr>\n      <th>13</th>\n      <td>Sweden</td>\n      <td>NaN</td>\n      <td>9.903122e+06</td>\n      <td>407310.0</td>\n    </tr>\n    <tr>\n      <th>14</th>\n      <td>India</td>\n      <td>1.148215</td>\n      <td>1.324171e+09</td>\n      <td>2973190.0</td>\n    </tr>\n  </tbody>\n</table>\n</div>"
     },
     "execution_count": 19,
     "metadata": {},
     "output_type": "execute_result"
    }
   ],
   "source": [
    "#drop world row\n",
    "countries.drop(index=15, axis=0, inplace=True)\n",
    "countries"
   ],
   "metadata": {
    "collapsed": false,
    "pycharm": {
     "name": "#%%\n"
    }
   }
  },
  {
   "cell_type": "code",
   "execution_count": 22,
   "outputs": [
    {
     "data": {
      "text/plain": " CountryName         0\nPopulation growth    2\nTotal population     1\nArea (sq. km)        1\ndtype: int64"
     },
     "execution_count": 22,
     "metadata": {},
     "output_type": "execute_result"
    }
   ],
   "source": [
    "#NAN\n",
    "countries.isnull().sum()"
   ],
   "metadata": {
    "collapsed": false,
    "pycharm": {
     "name": "#%%\n"
    }
   }
  },
  {
   "cell_type": "code",
   "execution_count": 23,
   "outputs": [],
   "source": [
    "# #remove NAN\n",
    "# # countries.dropna(axis=0)\n",
    "# #fill nan\n",
    "# countries.fillna({'Population growth':0,'Total population':1000000, 'Area (sq. km)':500000})\n",
    "# # fill with above data\n",
    "# countries.fillna(method='ffill')"
   ],
   "metadata": {
    "collapsed": false,
    "pycharm": {
     "name": "#%%\n"
    }
   }
  },
  {
   "cell_type": "code",
   "execution_count": 28,
   "outputs": [],
   "source": [
    "from sklearn.impute import SimpleImputer\n",
    "\n",
    "imp = SimpleImputer(missing_values=np.nan,strategy='mean', )\n",
    "imp.fit(countries)\n",
    "new_data = imp.transform(countries)\n",
    "new_data\n"
   ],
   "metadata": {
    "collapsed": false,
    "pycharm": {
     "name": "#%%\n"
    }
   }
  },
  {
   "cell_type": "code",
   "execution_count": null,
   "outputs": [],
   "source": [
    "#duplicate\n",
    "countries.drop_duplicates(['name'])\n",
    "\n",
    "#concatinate\n",
    "new_data = pd.concat([data1,data2], axis=0, ignore_index=True)\n"
   ],
   "metadata": {
    "collapsed": false,
    "pycharm": {
     "name": "#%%\n"
    }
   }
  }
 ],
 "metadata": {
  "kernelspec": {
   "display_name": "Python 3",
   "language": "python",
   "name": "python3"
  },
  "language_info": {
   "codemirror_mode": {
    "name": "ipython",
    "version": 2
   },
   "file_extension": ".py",
   "mimetype": "text/x-python",
   "name": "python",
   "nbconvert_exporter": "python",
   "pygments_lexer": "ipython2",
   "version": "2.7.6"
  }
 },
 "nbformat": 4,
 "nbformat_minor": 0
}